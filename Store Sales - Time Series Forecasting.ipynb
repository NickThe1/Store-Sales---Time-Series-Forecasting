{
 "cells": [
  {
   "cell_type": "markdown",
   "id": "99308bee",
   "metadata": {},
   "source": [
    "# Forecasting number of sales on the unit sales for thousands of items sold at different Favorita stores.\n",
    "\n",
    "For implementing algorithms, there are 7 datasets that's needed to be preprocessed and analysed."
   ]
  },
  {
   "cell_type": "markdown",
   "id": "03a43268",
   "metadata": {},
   "source": [
    "## Analysis of holiday events dataset"
   ]
  },
  {
   "cell_type": "code",
   "execution_count": 1,
   "id": "189fdcde",
   "metadata": {},
   "outputs": [],
   "source": [
    "import numpy as np\n",
    "import pandas as pd\n",
    "import matplotlib as mpl\n",
    "import matplotlib.pyplot as plt\n",
    "import seaborn as sns"
   ]
  },
  {
   "cell_type": "code",
   "execution_count": 4,
   "id": "b68cc11b",
   "metadata": {
    "scrolled": true
   },
   "outputs": [
    {
     "data": {
      "text/html": [
       "<div>\n",
       "<style scoped>\n",
       "    .dataframe tbody tr th:only-of-type {\n",
       "        vertical-align: middle;\n",
       "    }\n",
       "\n",
       "    .dataframe tbody tr th {\n",
       "        vertical-align: top;\n",
       "    }\n",
       "\n",
       "    .dataframe thead th {\n",
       "        text-align: right;\n",
       "    }\n",
       "</style>\n",
       "<table border=\"1\" class=\"dataframe\">\n",
       "  <thead>\n",
       "    <tr style=\"text-align: right;\">\n",
       "      <th></th>\n",
       "      <th>date</th>\n",
       "      <th>type</th>\n",
       "      <th>locale</th>\n",
       "      <th>locale_name</th>\n",
       "      <th>description</th>\n",
       "      <th>transferred</th>\n",
       "    </tr>\n",
       "  </thead>\n",
       "  <tbody>\n",
       "    <tr>\n",
       "      <th>0</th>\n",
       "      <td>2012-03-02</td>\n",
       "      <td>Holiday</td>\n",
       "      <td>Local</td>\n",
       "      <td>Manta</td>\n",
       "      <td>Fundacion de Manta</td>\n",
       "      <td>False</td>\n",
       "    </tr>\n",
       "    <tr>\n",
       "      <th>1</th>\n",
       "      <td>2012-04-01</td>\n",
       "      <td>Holiday</td>\n",
       "      <td>Regional</td>\n",
       "      <td>Cotopaxi</td>\n",
       "      <td>Provincializacion de Cotopaxi</td>\n",
       "      <td>False</td>\n",
       "    </tr>\n",
       "    <tr>\n",
       "      <th>2</th>\n",
       "      <td>2012-04-12</td>\n",
       "      <td>Holiday</td>\n",
       "      <td>Local</td>\n",
       "      <td>Cuenca</td>\n",
       "      <td>Fundacion de Cuenca</td>\n",
       "      <td>False</td>\n",
       "    </tr>\n",
       "    <tr>\n",
       "      <th>3</th>\n",
       "      <td>2012-04-14</td>\n",
       "      <td>Holiday</td>\n",
       "      <td>Local</td>\n",
       "      <td>Libertad</td>\n",
       "      <td>Cantonizacion de Libertad</td>\n",
       "      <td>False</td>\n",
       "    </tr>\n",
       "    <tr>\n",
       "      <th>4</th>\n",
       "      <td>2012-04-21</td>\n",
       "      <td>Holiday</td>\n",
       "      <td>Local</td>\n",
       "      <td>Riobamba</td>\n",
       "      <td>Cantonizacion de Riobamba</td>\n",
       "      <td>False</td>\n",
       "    </tr>\n",
       "    <tr>\n",
       "      <th>...</th>\n",
       "      <td>...</td>\n",
       "      <td>...</td>\n",
       "      <td>...</td>\n",
       "      <td>...</td>\n",
       "      <td>...</td>\n",
       "      <td>...</td>\n",
       "    </tr>\n",
       "    <tr>\n",
       "      <th>345</th>\n",
       "      <td>2017-12-22</td>\n",
       "      <td>Additional</td>\n",
       "      <td>National</td>\n",
       "      <td>Ecuador</td>\n",
       "      <td>Navidad-3</td>\n",
       "      <td>False</td>\n",
       "    </tr>\n",
       "    <tr>\n",
       "      <th>346</th>\n",
       "      <td>2017-12-23</td>\n",
       "      <td>Additional</td>\n",
       "      <td>National</td>\n",
       "      <td>Ecuador</td>\n",
       "      <td>Navidad-2</td>\n",
       "      <td>False</td>\n",
       "    </tr>\n",
       "    <tr>\n",
       "      <th>347</th>\n",
       "      <td>2017-12-24</td>\n",
       "      <td>Additional</td>\n",
       "      <td>National</td>\n",
       "      <td>Ecuador</td>\n",
       "      <td>Navidad-1</td>\n",
       "      <td>False</td>\n",
       "    </tr>\n",
       "    <tr>\n",
       "      <th>348</th>\n",
       "      <td>2017-12-25</td>\n",
       "      <td>Holiday</td>\n",
       "      <td>National</td>\n",
       "      <td>Ecuador</td>\n",
       "      <td>Navidad</td>\n",
       "      <td>False</td>\n",
       "    </tr>\n",
       "    <tr>\n",
       "      <th>349</th>\n",
       "      <td>2017-12-26</td>\n",
       "      <td>Additional</td>\n",
       "      <td>National</td>\n",
       "      <td>Ecuador</td>\n",
       "      <td>Navidad+1</td>\n",
       "      <td>False</td>\n",
       "    </tr>\n",
       "  </tbody>\n",
       "</table>\n",
       "<p>350 rows × 6 columns</p>\n",
       "</div>"
      ],
      "text/plain": [
       "           date        type    locale locale_name  \\\n",
       "0    2012-03-02     Holiday     Local       Manta   \n",
       "1    2012-04-01     Holiday  Regional    Cotopaxi   \n",
       "2    2012-04-12     Holiday     Local      Cuenca   \n",
       "3    2012-04-14     Holiday     Local    Libertad   \n",
       "4    2012-04-21     Holiday     Local    Riobamba   \n",
       "..          ...         ...       ...         ...   \n",
       "345  2017-12-22  Additional  National     Ecuador   \n",
       "346  2017-12-23  Additional  National     Ecuador   \n",
       "347  2017-12-24  Additional  National     Ecuador   \n",
       "348  2017-12-25     Holiday  National     Ecuador   \n",
       "349  2017-12-26  Additional  National     Ecuador   \n",
       "\n",
       "                       description  transferred  \n",
       "0               Fundacion de Manta        False  \n",
       "1    Provincializacion de Cotopaxi        False  \n",
       "2              Fundacion de Cuenca        False  \n",
       "3        Cantonizacion de Libertad        False  \n",
       "4        Cantonizacion de Riobamba        False  \n",
       "..                             ...          ...  \n",
       "345                      Navidad-3        False  \n",
       "346                      Navidad-2        False  \n",
       "347                      Navidad-1        False  \n",
       "348                        Navidad        False  \n",
       "349                      Navidad+1        False  \n",
       "\n",
       "[350 rows x 6 columns]"
      ]
     },
     "execution_count": 4,
     "metadata": {},
     "output_type": "execute_result"
    }
   ],
   "source": [
    "holidays_events = pd.read_csv(\"data/holidays_events.csv\")\n",
    "holidays_events"
   ]
  },
  {
   "cell_type": "markdown",
   "id": "8148be6d",
   "metadata": {},
   "source": [
    "**Dataset has no null values**"
   ]
  },
  {
   "cell_type": "code",
   "execution_count": 8,
   "id": "3f6681e9",
   "metadata": {},
   "outputs": [
    {
     "data": {
      "text/plain": [
       "date           0\n",
       "type           0\n",
       "locale         0\n",
       "locale_name    0\n",
       "description    0\n",
       "transferred    0\n",
       "dtype: int64"
      ]
     },
     "execution_count": 8,
     "metadata": {},
     "output_type": "execute_result"
    }
   ],
   "source": [
    "holidays_events.isnull().sum()"
   ]
  },
  {
   "cell_type": "markdown",
   "id": "1ebdf0e3",
   "metadata": {},
   "source": [
    "**Researching dataset's columns: counting amount of unique values and showing them.**\n",
    "\n",
    "*Hypothesis: holiday day (type: holiday) may have impact on sales and locale's values are also potentially beneficial for analysis if not transered.*"
   ]
  },
  {
   "cell_type": "code",
   "execution_count": 9,
   "id": "e1e31966",
   "metadata": {},
   "outputs": [
    {
     "data": {
      "text/plain": [
       "date           312\n",
       "type             6\n",
       "locale           3\n",
       "locale_name     24\n",
       "description    103\n",
       "transferred      2\n",
       "dtype: int64"
      ]
     },
     "execution_count": 9,
     "metadata": {},
     "output_type": "execute_result"
    }
   ],
   "source": [
    "holidays_events.nunique(axis=0)"
   ]
  },
  {
   "cell_type": "code",
   "execution_count": 11,
   "id": "b1ddee23",
   "metadata": {},
   "outputs": [
    {
     "data": {
      "text/plain": [
       "array(['Holiday', 'Transfer', 'Additional', 'Bridge', 'Work Day', 'Event'],\n",
       "      dtype=object)"
      ]
     },
     "execution_count": 11,
     "metadata": {},
     "output_type": "execute_result"
    }
   ],
   "source": [
    "types = pd.unique(holidays_events[\"type\"])\n",
    "types"
   ]
  },
  {
   "cell_type": "code",
   "execution_count": 13,
   "id": "8cb650fa",
   "metadata": {},
   "outputs": [
    {
     "data": {
      "text/plain": [
       "array(['Local', 'Regional', 'National'], dtype=object)"
      ]
     },
     "execution_count": 13,
     "metadata": {},
     "output_type": "execute_result"
    }
   ],
   "source": [
    "locales = pd.unique(holidays_events[\"locale\"])\n",
    "locales"
   ]
  },
  {
   "cell_type": "code",
   "execution_count": 14,
   "id": "38407bcd",
   "metadata": {},
   "outputs": [
    {
     "data": {
      "text/plain": [
       "array(['Manta', 'Cotopaxi', 'Cuenca', 'Libertad', 'Riobamba', 'Puyo',\n",
       "       'Guaranda', 'Imbabura', 'Latacunga', 'Machala', 'Santo Domingo',\n",
       "       'El Carmen', 'Cayambe', 'Esmeraldas', 'Ecuador', 'Ambato',\n",
       "       'Ibarra', 'Quevedo', 'Santo Domingo de los Tsachilas',\n",
       "       'Santa Elena', 'Quito', 'Loja', 'Salinas', 'Guayaquil'],\n",
       "      dtype=object)"
      ]
     },
     "execution_count": 14,
     "metadata": {},
     "output_type": "execute_result"
    }
   ],
   "source": [
    "locale_names = pd.unique(holidays_events[\"locale_name\"])\n",
    "locale_names"
   ]
  },
  {
   "cell_type": "code",
   "execution_count": 15,
   "id": "45c579f8",
   "metadata": {},
   "outputs": [
    {
     "data": {
      "text/plain": [
       "array(['Fundacion de Manta', 'Provincializacion de Cotopaxi',\n",
       "       'Fundacion de Cuenca', 'Cantonizacion de Libertad',\n",
       "       'Cantonizacion de Riobamba', 'Cantonizacion del Puyo',\n",
       "       'Cantonizacion de Guaranda', 'Provincializacion de Imbabura',\n",
       "       'Cantonizacion de Latacunga', 'Fundacion de Machala',\n",
       "       'Fundacion de Santo Domingo', 'Cantonizacion de El Carmen',\n",
       "       'Cantonizacion de Cayambe', 'Fundacion de Esmeraldas',\n",
       "       'Primer Grito de Independencia', 'Fundacion de Riobamba',\n",
       "       'Fundacion de Ambato', 'Fundacion de Ibarra',\n",
       "       'Cantonizacion de Quevedo', 'Independencia de Guayaquil',\n",
       "       'Traslado Independencia de Guayaquil', 'Dia de Difuntos',\n",
       "       'Independencia de Cuenca', 'Provincializacion de Santo Domingo',\n",
       "       'Provincializacion Santa Elena', 'Independencia de Guaranda',\n",
       "       'Independencia de Latacunga', 'Independencia de Ambato',\n",
       "       'Fundacion de Quito-1', 'Fundacion de Quito', 'Fundacion de Loja',\n",
       "       'Navidad-4', 'Cantonizacion de Salinas', 'Navidad-3', 'Navidad-2',\n",
       "       'Puente Navidad', 'Navidad-1', 'Navidad', 'Navidad+1',\n",
       "       'Puente Primer dia del ano', 'Primer dia del ano-1',\n",
       "       'Primer dia del ano', 'Recupero puente Navidad',\n",
       "       'Recupero puente primer dia del ano', 'Carnaval', 'Viernes Santo',\n",
       "       'Dia del Trabajo', 'Dia de la Madre-1', 'Dia de la Madre',\n",
       "       'Batalla de Pichincha', 'Fundacion de Guayaquil-1',\n",
       "       'Fundacion de Guayaquil', 'Inauguracion Mundial de futbol Brasil',\n",
       "       'Mundial de futbol Brasil: Ecuador-Suiza',\n",
       "       'Mundial de futbol Brasil: Ecuador-Honduras',\n",
       "       'Mundial de futbol Brasil: Ecuador-Francia',\n",
       "       'Mundial de futbol Brasil: Octavos de Final',\n",
       "       'Mundial de futbol Brasil: Cuartos de Final',\n",
       "       'Mundial de futbol Brasil: Semifinales',\n",
       "       'Mundial de futbol Brasil: Tercer y cuarto lugar',\n",
       "       'Mundial de futbol Brasil: Final', 'Black Friday', 'Cyber Monday',\n",
       "       'Recupero Puente Navidad', 'Recupero Puente Primer dia del ano',\n",
       "       'Terremoto Manabi', 'Terremoto Manabi+1', 'Terremoto Manabi+2',\n",
       "       'Terremoto Manabi+3', 'Terremoto Manabi+4', 'Terremoto Manabi+5',\n",
       "       'Terremoto Manabi+6', 'Terremoto Manabi+7', 'Terremoto Manabi+8',\n",
       "       'Terremoto Manabi+9', 'Terremoto Manabi+10', 'Terremoto Manabi+11',\n",
       "       'Terremoto Manabi+12', 'Terremoto Manabi+13',\n",
       "       'Terremoto Manabi+14', 'Terremoto Manabi+15',\n",
       "       'Terremoto Manabi+16', 'Terremoto Manabi+17',\n",
       "       'Terremoto Manabi+18', 'Terremoto Manabi+19',\n",
       "       'Terremoto Manabi+20', 'Terremoto Manabi+21',\n",
       "       'Terremoto Manabi+22', 'Terremoto Manabi+23',\n",
       "       'Terremoto Manabi+24', 'Terremoto Manabi+25',\n",
       "       'Terremoto Manabi+26', 'Terremoto Manabi+27',\n",
       "       'Terremoto Manabi+28', 'Terremoto Manabi+29',\n",
       "       'Terremoto Manabi+30', 'Traslado Batalla de Pichincha',\n",
       "       'Traslado Fundacion de Guayaquil',\n",
       "       'Traslado Primer Grito de Independencia', 'Puente Dia de Difuntos',\n",
       "       'Recupero Puente Dia de Difuntos', 'Traslado Primer dia del ano',\n",
       "       'Traslado Fundacion de Quito'], dtype=object)"
      ]
     },
     "execution_count": 15,
     "metadata": {},
     "output_type": "execute_result"
    }
   ],
   "source": [
    "descriptions = pd.unique(holidays_events[\"description\"])\n",
    "descriptions"
   ]
  },
  {
   "cell_type": "markdown",
   "id": "348ab60b",
   "metadata": {},
   "source": [
    "## Analysis of oil prices dataset"
   ]
  },
  {
   "cell_type": "code",
   "execution_count": 16,
   "id": "7693d5bb",
   "metadata": {},
   "outputs": [
    {
     "data": {
      "text/html": [
       "<div>\n",
       "<style scoped>\n",
       "    .dataframe tbody tr th:only-of-type {\n",
       "        vertical-align: middle;\n",
       "    }\n",
       "\n",
       "    .dataframe tbody tr th {\n",
       "        vertical-align: top;\n",
       "    }\n",
       "\n",
       "    .dataframe thead th {\n",
       "        text-align: right;\n",
       "    }\n",
       "</style>\n",
       "<table border=\"1\" class=\"dataframe\">\n",
       "  <thead>\n",
       "    <tr style=\"text-align: right;\">\n",
       "      <th></th>\n",
       "      <th>date</th>\n",
       "      <th>dcoilwtico</th>\n",
       "    </tr>\n",
       "  </thead>\n",
       "  <tbody>\n",
       "    <tr>\n",
       "      <th>0</th>\n",
       "      <td>2013-01-01</td>\n",
       "      <td>NaN</td>\n",
       "    </tr>\n",
       "    <tr>\n",
       "      <th>1</th>\n",
       "      <td>2013-01-02</td>\n",
       "      <td>93.14</td>\n",
       "    </tr>\n",
       "    <tr>\n",
       "      <th>2</th>\n",
       "      <td>2013-01-03</td>\n",
       "      <td>92.97</td>\n",
       "    </tr>\n",
       "    <tr>\n",
       "      <th>3</th>\n",
       "      <td>2013-01-04</td>\n",
       "      <td>93.12</td>\n",
       "    </tr>\n",
       "    <tr>\n",
       "      <th>4</th>\n",
       "      <td>2013-01-07</td>\n",
       "      <td>93.20</td>\n",
       "    </tr>\n",
       "    <tr>\n",
       "      <th>...</th>\n",
       "      <td>...</td>\n",
       "      <td>...</td>\n",
       "    </tr>\n",
       "    <tr>\n",
       "      <th>1213</th>\n",
       "      <td>2017-08-25</td>\n",
       "      <td>47.65</td>\n",
       "    </tr>\n",
       "    <tr>\n",
       "      <th>1214</th>\n",
       "      <td>2017-08-28</td>\n",
       "      <td>46.40</td>\n",
       "    </tr>\n",
       "    <tr>\n",
       "      <th>1215</th>\n",
       "      <td>2017-08-29</td>\n",
       "      <td>46.46</td>\n",
       "    </tr>\n",
       "    <tr>\n",
       "      <th>1216</th>\n",
       "      <td>2017-08-30</td>\n",
       "      <td>45.96</td>\n",
       "    </tr>\n",
       "    <tr>\n",
       "      <th>1217</th>\n",
       "      <td>2017-08-31</td>\n",
       "      <td>47.26</td>\n",
       "    </tr>\n",
       "  </tbody>\n",
       "</table>\n",
       "<p>1218 rows × 2 columns</p>\n",
       "</div>"
      ],
      "text/plain": [
       "            date  dcoilwtico\n",
       "0     2013-01-01         NaN\n",
       "1     2013-01-02       93.14\n",
       "2     2013-01-03       92.97\n",
       "3     2013-01-04       93.12\n",
       "4     2013-01-07       93.20\n",
       "...          ...         ...\n",
       "1213  2017-08-25       47.65\n",
       "1214  2017-08-28       46.40\n",
       "1215  2017-08-29       46.46\n",
       "1216  2017-08-30       45.96\n",
       "1217  2017-08-31       47.26\n",
       "\n",
       "[1218 rows x 2 columns]"
      ]
     },
     "execution_count": 16,
     "metadata": {},
     "output_type": "execute_result"
    }
   ],
   "source": [
    "oil = pd.read_csv(\"data/oil.csv\")\n",
    "oil"
   ]
  },
  {
   "cell_type": "markdown",
   "id": "e8eae310",
   "metadata": {},
   "source": [
    "**The dataset has 43 null values and taking the mean of 4 previous values and 4 following values is necessary.**"
   ]
  },
  {
   "cell_type": "code",
   "execution_count": 17,
   "id": "0853fe14",
   "metadata": {},
   "outputs": [
    {
     "data": {
      "text/plain": [
       "date           0\n",
       "dcoilwtico    43\n",
       "dtype: int64"
      ]
     },
     "execution_count": 17,
     "metadata": {},
     "output_type": "execute_result"
    }
   ],
   "source": [
    "oil.isnull().sum()"
   ]
  },
  {
   "cell_type": "code",
   "execution_count": null,
   "id": "9c7c73d1",
   "metadata": {},
   "outputs": [],
   "source": []
  },
  {
   "cell_type": "code",
   "execution_count": null,
   "id": "b781b9e3",
   "metadata": {},
   "outputs": [],
   "source": []
  }
 ],
 "metadata": {
  "kernelspec": {
   "display_name": "Python 3 (ipykernel)",
   "language": "python",
   "name": "python3"
  },
  "language_info": {
   "codemirror_mode": {
    "name": "ipython",
    "version": 3
   },
   "file_extension": ".py",
   "mimetype": "text/x-python",
   "name": "python",
   "nbconvert_exporter": "python",
   "pygments_lexer": "ipython3",
   "version": "3.8.10"
  }
 },
 "nbformat": 4,
 "nbformat_minor": 5
}
